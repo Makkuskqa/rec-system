{
 "cells": [
  {
   "cell_type": "markdown",
   "id": "089042a5-f177-4e1e-911e-8dc8d0b90d46",
   "metadata": {},
   "source": [
    "Домашнє завдання №2\n",
    "==\n",
    "\n",
    "В цьому завданні потрібно побудувати рекомендатор, використовуючи колаборативну фільтрацію. На вибір можна обрати наступні алгоритми із бібліотеки surprise\n",
    "* KNNWithMeans - алгоритм, що враховує середні значення\n",
    "* KNNWithZScore - алгоритм, що використовує нормалізацію\n",
    "* SVD\n",
    "\n",
    "Датасет - Book crossing. \n",
    "\n",
    "Фінальна функція приймає на вхід користувача (User-Id) та видає йому 10 рекомендацій книг. \n",
    "\n",
    "За бажанням можна також приділити більше уваги очищенню даних\n",
    "* Прибрати дублікати\n",
    "* Видалити схожі, але різні назви однієї і тієї ж книги"
   ]
  },
  {
   "cell_type": "code",
   "execution_count": 1,
   "id": "bec52580",
   "metadata": {},
   "outputs": [],
   "source": [
    "import pandas as pd\n",
    "from plotly.graph_objects import *\n",
    "import numpy as np\n",
    "import sys \n",
    "from memory_profiler import memory_usage\n",
    "import os, psutil\n",
    "\n",
    "\n",
    "from surprise import Dataset\n",
    "from surprise import Reader\n",
    "from surprise import KNNBasic, KNNWithMeans, KNNWithZScore, SVD\n",
    "from surprise.model_selection import cross_validate, train_test_split, GridSearchCV"
   ]
  },
  {
   "cell_type": "code",
   "execution_count": 2,
   "id": "2ffac1cd-0b08-4f09-b02e-e98ad1da65d3",
   "metadata": {},
   "outputs": [
    {
     "name": "stderr",
     "output_type": "stream",
     "text": [
      "/tmp/ipykernel_1650582/350196873.py:1: DtypeWarning: Columns (0) have mixed types. Specify dtype option on import or set low_memory=False.\n",
      "  users = pd.read_csv('datasets/book-crossing/Users.csv', sep=';')\n"
     ]
    }
   ],
   "source": [
    "users = pd.read_csv('datasets/book-crossing/Users.csv', sep=';')\n",
    "ratings = pd.read_csv('datasets/book-crossing/Ratings.csv',sep=';')#,on_bad_lines='skip')\n",
    "\n",
    "books = pd.read_csv('datasets/book-crossing/Books.csv',sep=';',on_bad_lines='skip')\n"
   ]
  },
  {
   "cell_type": "code",
   "execution_count": 3,
   "id": "ca0353fa",
   "metadata": {},
   "outputs": [
    {
     "data": {
      "text/plain": [
       "User-ID    0\n",
       "ISBN       0\n",
       "Rating     0\n",
       "dtype: int64"
      ]
     },
     "execution_count": 3,
     "metadata": {},
     "output_type": "execute_result"
    }
   ],
   "source": [
    "users.isnull().sum()\n",
    "ratings.isnull().sum()"
   ]
  },
  {
   "cell_type": "code",
   "execution_count": 4,
   "id": "1c0b8118",
   "metadata": {},
   "outputs": [],
   "source": [
    "import re\n",
    "\n",
    "# Define a function to extract age and country\n",
    "def extract_age_country(data):\n",
    "    age = re.findall(r'\\b\\d{1,3}\\b', str(data))\n",
    "    age = int(age[0]) if (age and 0 < int(age[0]) < 100) else 'nan'\n",
    "\n",
    "    country = re.findall(r'(?i)\\b[a-z ]+\\b', str(data))\n",
    "    country = country[0].strip() if country else 'nan'\n",
    "    return age, country\n",
    "\n",
    "# Apply the function to the column and split the results into separate columns\n",
    "users[['Age', 'Country']] = users['Age'].apply(lambda x: pd.Series(extract_age_country(x)))\n",
    "\n",
    "# Drop the original column and NaN rows\n",
    "#users = users.drop(columns=['Age']).dropna()"
   ]
  },
  {
   "cell_type": "code",
   "execution_count": 5,
   "id": "bdc38edb",
   "metadata": {},
   "outputs": [
    {
     "data": {
      "text/plain": [
       "array(['nan', 18, 17, 61, 26, 14, 25, 19, 46, 55, 32, 24, 20, 34, 23, 51,\n",
       "       31, 21, 44, 30, 57, 43, 37, 41, 54, 42, 50, 39, 53, 47, 36, 28, 35,\n",
       "       13, 58, 49, 38, 45, 62, 63, 27, 33, 29, 66, 40, 15, 60, 79, 22, 16,\n",
       "       65, 59, 48, 72, 56, 67, 1, 80, 52, 69, 71, 73, 78, 9, 64, 12, 74,\n",
       "       75, 3, 76, 83, 68, 11, 2, 70, 77, 93, 8, 7, 4, 81, 10, 5, 6, 96,\n",
       "       84, 82, 90, 91, 94, 85, 97, 86, 92, 87, 95, 89, 99, 88, 98],\n",
       "      dtype=object)"
      ]
     },
     "execution_count": 5,
     "metadata": {},
     "output_type": "execute_result"
    }
   ],
   "source": [
    "users['Age'].unique()"
   ]
  },
  {
   "cell_type": "code",
   "execution_count": 6,
   "id": "05944c33",
   "metadata": {},
   "outputs": [],
   "source": [
    "ratings = ratings.merge(users, on='User-ID')"
   ]
  },
  {
   "cell_type": "code",
   "execution_count": 7,
   "id": "654d8561",
   "metadata": {},
   "outputs": [
    {
     "data": {
      "text/html": [
       "<div>\n",
       "<style scoped>\n",
       "    .dataframe tbody tr th:only-of-type {\n",
       "        vertical-align: middle;\n",
       "    }\n",
       "\n",
       "    .dataframe tbody tr th {\n",
       "        vertical-align: top;\n",
       "    }\n",
       "\n",
       "    .dataframe thead th {\n",
       "        text-align: right;\n",
       "    }\n",
       "</style>\n",
       "<table border=\"1\" class=\"dataframe\">\n",
       "  <thead>\n",
       "    <tr style=\"text-align: right;\">\n",
       "      <th></th>\n",
       "      <th>User-ID</th>\n",
       "      <th>ISBN</th>\n",
       "      <th>Rating</th>\n",
       "      <th>Age</th>\n",
       "      <th>Country</th>\n",
       "    </tr>\n",
       "  </thead>\n",
       "  <tbody>\n",
       "    <tr>\n",
       "      <th>0</th>\n",
       "      <td>2</td>\n",
       "      <td>0195153448</td>\n",
       "      <td>0</td>\n",
       "      <td>18</td>\n",
       "      <td>nan</td>\n",
       "    </tr>\n",
       "    <tr>\n",
       "      <th>1</th>\n",
       "      <td>7</td>\n",
       "      <td>034542252</td>\n",
       "      <td>0</td>\n",
       "      <td>nan</td>\n",
       "      <td>nan</td>\n",
       "    </tr>\n",
       "    <tr>\n",
       "      <th>2</th>\n",
       "      <td>8</td>\n",
       "      <td>0002005018</td>\n",
       "      <td>5</td>\n",
       "      <td>nan</td>\n",
       "      <td>nan</td>\n",
       "    </tr>\n",
       "    <tr>\n",
       "      <th>3</th>\n",
       "      <td>8</td>\n",
       "      <td>0060973129</td>\n",
       "      <td>0</td>\n",
       "      <td>nan</td>\n",
       "      <td>nan</td>\n",
       "    </tr>\n",
       "    <tr>\n",
       "      <th>4</th>\n",
       "      <td>8</td>\n",
       "      <td>0374157065</td>\n",
       "      <td>0</td>\n",
       "      <td>nan</td>\n",
       "      <td>nan</td>\n",
       "    </tr>\n",
       "  </tbody>\n",
       "</table>\n",
       "</div>"
      ],
      "text/plain": [
       "  User-ID        ISBN  Rating  Age Country\n",
       "0       2  0195153448       0   18     nan\n",
       "1       7   034542252       0  nan     nan\n",
       "2       8  0002005018       5  nan     nan\n",
       "3       8  0060973129       0  nan     nan\n",
       "4       8  0374157065       0  nan     nan"
      ]
     },
     "execution_count": 7,
     "metadata": {},
     "output_type": "execute_result"
    }
   ],
   "source": [
    "ratings.head()"
   ]
  },
  {
   "cell_type": "markdown",
   "id": "615941e6",
   "metadata": {},
   "source": [
    "## KNNWithMeans"
   ]
  },
  {
   "cell_type": "code",
   "execution_count": 8,
   "id": "a055c564",
   "metadata": {},
   "outputs": [
    {
     "name": "stdout",
     "output_type": "stream",
     "text": [
      "median amount users in groups-- 48.0\n",
      "mean amount users in groups-- 986.5136612021857\n"
     ]
    }
   ],
   "source": [
    "print(\"median amount users in groups--\",ratings.groupby(['Rating', 'Age', 'Country'], dropna=False).size().reset_index()[0].median())\n",
    "print(\"mean amount users in groups--\",ratings.groupby(['Rating', 'Age', 'Country'], dropna=False).size().reset_index()[0].mean())"
   ]
  },
  {
   "cell_type": "code",
   "execution_count": 9,
   "id": "e42a77c2",
   "metadata": {},
   "outputs": [],
   "source": [
    "Reader = Reader(line_format='user item rating',rating_scale=(1, 10))"
   ]
  },
  {
   "cell_type": "code",
   "execution_count": 10,
   "id": "dc397cf7",
   "metadata": {},
   "outputs": [
    {
     "name": "stdout",
     "output_type": "stream",
     "text": [
      "<class 'pandas.core.frame.DataFrame'>\n",
      "Index: 10000 entries, 2 to 21398\n",
      "Data columns (total 3 columns):\n",
      " #   Column   Non-Null Count  Dtype \n",
      "---  ------   --------------  ----- \n",
      " 0   User-ID  10000 non-null  object\n",
      " 1   ISBN     10000 non-null  object\n",
      " 2   Rating   10000 non-null  int64 \n",
      "dtypes: int64(1), object(2)\n",
      "memory usage: 312.5+ KB\n"
     ]
    }
   ],
   "source": [
    "ratings_non_null = ratings[ratings['Rating'] != 0]\n",
    "ratings_non_null = ratings_non_null.iloc[:10000, [0, 1, 2]]\n",
    "ratings_non_null.info()"
   ]
  },
  {
   "cell_type": "code",
   "execution_count": 27,
   "id": "684279f0",
   "metadata": {},
   "outputs": [
    {
     "data": {
      "text/html": [
       "<div>\n",
       "<style scoped>\n",
       "    .dataframe tbody tr th:only-of-type {\n",
       "        vertical-align: middle;\n",
       "    }\n",
       "\n",
       "    .dataframe tbody tr th {\n",
       "        vertical-align: top;\n",
       "    }\n",
       "\n",
       "    .dataframe thead th {\n",
       "        text-align: right;\n",
       "    }\n",
       "</style>\n",
       "<table border=\"1\" class=\"dataframe\">\n",
       "  <thead>\n",
       "    <tr style=\"text-align: right;\">\n",
       "      <th></th>\n",
       "      <th>User-ID</th>\n",
       "      <th>ISBN</th>\n",
       "      <th>Rating</th>\n",
       "    </tr>\n",
       "  </thead>\n",
       "  <tbody>\n",
       "    <tr>\n",
       "      <th>2</th>\n",
       "      <td>8</td>\n",
       "      <td>0002005018</td>\n",
       "      <td>5</td>\n",
       "    </tr>\n",
       "    <tr>\n",
       "      <th>10</th>\n",
       "      <td>8</td>\n",
       "      <td>074322678X</td>\n",
       "      <td>5</td>\n",
       "    </tr>\n",
       "    <tr>\n",
       "      <th>14</th>\n",
       "      <td>8</td>\n",
       "      <td>0887841740</td>\n",
       "      <td>5</td>\n",
       "    </tr>\n",
       "    <tr>\n",
       "      <th>15</th>\n",
       "      <td>8</td>\n",
       "      <td>1552041778</td>\n",
       "      <td>5</td>\n",
       "    </tr>\n",
       "    <tr>\n",
       "      <th>17</th>\n",
       "      <td>8</td>\n",
       "      <td>1567407781</td>\n",
       "      <td>6</td>\n",
       "    </tr>\n",
       "  </tbody>\n",
       "</table>\n",
       "</div>"
      ],
      "text/plain": [
       "   User-ID        ISBN  Rating\n",
       "2        8  0002005018       5\n",
       "10       8  074322678X       5\n",
       "14       8  0887841740       5\n",
       "15       8  1552041778       5\n",
       "17       8  1567407781       6"
      ]
     },
     "execution_count": 27,
     "metadata": {},
     "output_type": "execute_result"
    }
   ],
   "source": [
    "ratings_non_null.head()"
   ]
  },
  {
   "cell_type": "code",
   "execution_count": 11,
   "id": "0f2f65f6",
   "metadata": {},
   "outputs": [
    {
     "name": "stdout",
     "output_type": "stream",
     "text": [
      "Memory used: 0.0 MB\n"
     ]
    }
   ],
   "source": [
    "def measure_memory(func):\n",
    "    mem_before = psutil.Process(os.getpid()).memory_info().rss / 1024 / 1024\n",
    "    result = func()\n",
    "    mem_after = psutil.Process(os.getpid()).memory_info().rss / 1024 / 1024\n",
    "    print(f\"Memory used: {mem_after - mem_before} MB\")\n",
    "    return result\n",
    "\n",
    "def build_trainset():\n",
    "    return Dataset.load_from_df(ratings_non_null[['User-ID', 'ISBN', 'Rating']], Reader) \n",
    "\n",
    "\n",
    "data = measure_memory(build_trainset) \n",
    "\n",
    "#data = Dataset.load_from_df(ratings_non_null[['User-ID', 'ISBN', 'Rating']], Reader)"
   ]
  },
  {
   "cell_type": "code",
   "execution_count": 35,
   "id": "1644adbc",
   "metadata": {},
   "outputs": [],
   "source": [
    "sim_options = {'name': 'pearson_baseline', 'user_based': False}\n",
    "\n",
    "algo = KNNWithZScore(k=50, sim_options=sim_options)"
   ]
  },
  {
   "cell_type": "code",
   "execution_count": 13,
   "id": "cf71500a",
   "metadata": {},
   "outputs": [],
   "source": [
    "# algo = SVD()"
   ]
  },
  {
   "cell_type": "code",
   "execution_count": 37,
   "id": "9b9a86b3",
   "metadata": {},
   "outputs": [
    {
     "name": "stdout",
     "output_type": "stream",
     "text": [
      "Memory used: 0.0 MB\n",
      "Estimating biases using als...\n",
      "Computing the pearson_baseline similarity matrix...\n",
      "Done computing similarity matrix.\n"
     ]
    },
    {
     "data": {
      "text/plain": [
       "<surprise.prediction_algorithms.knns.KNNWithZScore at 0x7fbd88d73890>"
      ]
     },
     "execution_count": 37,
     "metadata": {},
     "output_type": "execute_result"
    }
   ],
   "source": [
    "\n",
    "\n",
    "def measure_memory(func):\n",
    "    mem_before = psutil.Process(os.getpid()).memory_info().rss / 1024 / 1024\n",
    "    result = func()\n",
    "    mem_after = psutil.Process(os.getpid()).memory_info().rss / 1024 / 1024\n",
    "    print(f\"Memory used: {mem_after - mem_before} MB\")\n",
    "    return result\n",
    "\n",
    "def build_trainset():\n",
    "    return data.build_full_trainset()   \n",
    "\n",
    "trainset = measure_memory(build_trainset)\n",
    "\n",
    "algo.fit(trainset)   \n",
    "\n",
    "\n",
    "# trainset = data.build_full_trainset()\n",
    "# algo.fit(trainset)"
   ]
  },
  {
   "cell_type": "code",
   "execution_count": 38,
   "id": "1333512e",
   "metadata": {},
   "outputs": [
    {
     "name": "stdout",
     "output_type": "stream",
     "text": [
      "user: 196        item: 0002005018 r_ui = 4.00   est = 7.63   {'was_impossible': True, 'reason': 'User and/or item is unknown.'}\n"
     ]
    }
   ],
   "source": [
    "# Predict a certain item\n",
    "uid = str(196)  # raw user id\n",
    "iid = str(\"0002005018\")  # raw item id\n",
    "pred = algo.predict(uid, iid, r_ui=4, verbose=True)\n"
   ]
  },
  {
   "cell_type": "code",
   "execution_count": 39,
   "id": "19a799dc",
   "metadata": {},
   "outputs": [],
   "source": [
    "prediction = algo.predict(243,'0060915544')"
   ]
  },
  {
   "cell_type": "code",
   "execution_count": 40,
   "id": "09e93987",
   "metadata": {},
   "outputs": [
    {
     "data": {
      "text/plain": [
       "7.6295"
      ]
     },
     "execution_count": 40,
     "metadata": {},
     "output_type": "execute_result"
    }
   ],
   "source": [
    "prediction.est\n",
    "pred.est"
   ]
  },
  {
   "cell_type": "code",
   "execution_count": 41,
   "id": "e93d841f",
   "metadata": {},
   "outputs": [
    {
     "data": {
      "text/plain": [
       "Prediction(uid='196', iid='0002005018', r_ui=4, est=7.6295, details={'was_impossible': True, 'reason': 'User and/or item is unknown.'})"
      ]
     },
     "execution_count": 41,
     "metadata": {},
     "output_type": "execute_result"
    }
   ],
   "source": [
    "prediction\n",
    "pred"
   ]
  },
  {
   "cell_type": "code",
   "execution_count": 42,
   "id": "99c95cb3",
   "metadata": {},
   "outputs": [
    {
     "name": "stdout",
     "output_type": "stream",
     "text": [
      "Memory used: 0.0 MB\n"
     ]
    }
   ],
   "source": [
    "def measure_memory(func):\n",
    "    mem_before = psutil.Process(os.getpid()).memory_info().rss / 1024 / 1024\n",
    "    result = func()\n",
    "    mem_after = psutil.Process(os.getpid()).memory_info().rss / 1024 / 1024\n",
    "    print(f\"Memory used: {mem_after - mem_before} MB\")\n",
    "    return result\n",
    "\n",
    "def build_trainset():\n",
    "    return train_test_split(data, test_size=0.05)  #!\n",
    "\n",
    "train, test = measure_memory(build_trainset)\n",
    "\n",
    "\n",
    "#train, test = train_test_split(data, test_size=0.1)"
   ]
  },
  {
   "cell_type": "code",
   "execution_count": 43,
   "id": "a6d64b0c",
   "metadata": {},
   "outputs": [
    {
     "data": {
      "text/plain": [
       "<surprise.trainset.Trainset at 0x7fbd89449b10>"
      ]
     },
     "execution_count": 43,
     "metadata": {},
     "output_type": "execute_result"
    }
   ],
   "source": [
    "train"
   ]
  },
  {
   "cell_type": "code",
   "execution_count": 44,
   "id": "3bd90d7c",
   "metadata": {},
   "outputs": [
    {
     "name": "stdout",
     "output_type": "stream",
     "text": [
      "Estimating biases using als...\n",
      "Computing the pearson_baseline similarity matrix...\n",
      "Done computing similarity matrix.\n"
     ]
    },
    {
     "data": {
      "text/plain": [
       "<surprise.prediction_algorithms.knns.KNNWithZScore at 0x7fbd88d73890>"
      ]
     },
     "execution_count": 44,
     "metadata": {},
     "output_type": "execute_result"
    }
   ],
   "source": [
    "algo.fit(train)"
   ]
  },
  {
   "cell_type": "code",
   "execution_count": 45,
   "id": "9e0c9a04",
   "metadata": {},
   "outputs": [],
   "source": [
    "predictions = algo.test(test)"
   ]
  },
  {
   "cell_type": "code",
   "execution_count": 46,
   "id": "08f18bec",
   "metadata": {},
   "outputs": [
    {
     "name": "stdout",
     "output_type": "stream",
     "text": [
      "Hit Rate: 0.746\n"
     ]
    }
   ],
   "source": [
    "like_threshold = 7\n",
    "\n",
    "\n",
    "hits = [1 for prediction in predictions if prediction.est >= like_threshold and prediction.r_ui >= like_threshold]\n",
    "hit_rate = sum(hits) / len(predictions) if predictions else 0\n",
    "\n",
    "print(f\"Hit Rate: {hit_rate:.3f}\")"
   ]
  },
  {
   "cell_type": "code",
   "execution_count": 47,
   "id": "9d8d3ef3",
   "metadata": {},
   "outputs": [
    {
     "name": "stdout",
     "output_type": "stream",
     "text": [
      "Estimating biases using als...\n",
      "Computing the pearson_baseline similarity matrix...\n",
      "Done computing similarity matrix.\n",
      "Estimating biases using als...\n",
      "Computing the pearson_baseline similarity matrix...\n",
      "Done computing similarity matrix.\n",
      "Estimating biases using als...\n",
      "Computing the pearson_baseline similarity matrix...\n",
      "Done computing similarity matrix.\n",
      "Evaluating RMSE of algorithm KNNWithZScore on 3 split(s).\n",
      "\n",
      "                  Fold 1  Fold 2  Fold 3  Mean    Std     \n",
      "RMSE (testset)    1.9201  1.8465  1.9071  1.8912  0.0321  \n",
      "Fit time          0.65    0.67    0.66    0.66    0.01    \n",
      "Test time         0.02    0.02    0.01    0.02    0.00    \n",
      "Memory used: -252.37890625 MB\n"
     ]
    },
    {
     "data": {
      "text/plain": [
       "{'test_rmse': array([1.92006428, 1.84648035, 1.90711215]),\n",
       " 'fit_time': (0.6534712314605713, 0.6668829917907715, 0.6584157943725586),\n",
       " 'test_time': (0.016679763793945312,\n",
       "  0.016622304916381836,\n",
       "  0.014945507049560547)}"
      ]
     },
     "execution_count": 47,
     "metadata": {},
     "output_type": "execute_result"
    }
   ],
   "source": [
    "def measure_memory(func):\n",
    "    mem_before = psutil.Process(os.getpid()).memory_info().rss / 1024 / 1024\n",
    "    result = func()\n",
    "    mem_after = psutil.Process(os.getpid()).memory_info().rss / 1024 / 1024\n",
    "    print(f\"Memory used: {mem_after - mem_before} MB\")\n",
    "    return result\n",
    "\n",
    "def build_trainset():\n",
    "    return cross_validate(algo, data, measures=['RMSE'], cv=3, verbose=True)  #!\n",
    "\n",
    "measure_memory(build_trainset)\n",
    "\n",
    "\n",
    "#cross_validate(algo, data, measures=['RMSE'], cv=3, verbose=True)"
   ]
  },
  {
   "cell_type": "code",
   "execution_count": 53,
   "id": "f1faafa5",
   "metadata": {},
   "outputs": [
    {
     "name": "stdout",
     "output_type": "stream",
     "text": [
      "Computing the msd similarity matrix...\n",
      "Computing the msd similarity matrix...\n",
      "Computing the msd similarity matrix...\n",
      "Done computing similarity matrix.\n",
      "Computing the msd similarity matrix...\n",
      "Computing the msd similarity matrix...\n",
      "Computing the msd similarity matrix...\n",
      "Computing the msd similarity matrix...\n",
      "Computing the msd similarity matrix...\n",
      "Done computing similarity matrix.\n",
      "Done computing similarity matrix.\n",
      "Done computing similarity matrix.\n",
      "Computing the msd similarity matrix...\n",
      "Done computing similarity matrix.\n",
      "Computing the msd similarity matrix...\n",
      "Computing the msd similarity matrix...\n",
      "Computing the cosine similarity matrix...\n",
      "Computing the msd similarity matrix...\n",
      "Done computing similarity matrix.\n",
      "Computing the cosine similarity matrix...\n",
      "Done computing similarity matrix.\n",
      "Computing the cosine similarity matrix...\n",
      "Computing the cosine similarity matrix...\n",
      "Computing the cosine similarity matrix...\n",
      "Computing the cosine similarity matrix...\n",
      "Computing the cosine similarity matrix...\n",
      "Computing the cosine similarity matrix...Done computing similarity matrix.\n",
      "\n",
      "Computing the cosine similarity matrix...\n",
      "Done computing similarity matrix.\n",
      "Done computing similarity matrix.\n",
      "Computing the cosine similarity matrix...\n",
      "Computing the cosine similarity matrix...\n",
      "Computing the cosine similarity matrix...\n",
      "Done computing similarity matrix.\n",
      "Done computing similarity matrix.\n",
      "Done computing similarity matrix.\n",
      "Done computing similarity matrix.\n",
      "Done computing similarity matrix.\n",
      "Done computing similarity matrix.\n",
      "Done computing similarity matrix.\n",
      "Done computing similarity matrix.\n",
      "Done computing similarity matrix.\n",
      "Done computing similarity matrix.\n",
      "Done computing similarity matrix.\n",
      "Done computing similarity matrix.\n",
      "Done computing similarity matrix.\n",
      "Done computing similarity matrix.\n"
     ]
    }
   ],
   "source": [
    "sim_options = {\n",
    "    \"name\": [\"msd\", \"cosine\"],\n",
    "    \"min_support\": [3, 4, 5],\n",
    "    \"user_based\": [False, True],\n",
    "}\n",
    "\n",
    "# sim_options = {\n",
    "#     \"name\": [\"msd\"],\n",
    "#     \"min_support\": [3],\n",
    "#     \"user_based\": [False],\n",
    "# }\n",
    "\n",
    "\n",
    "param_grid = {\"sim_options\": sim_options}\n",
    "\n",
    "gs = GridSearchCV(KNNWithMeans, param_grid, measures=[\"rmse\", \"mae\"], cv=2, n_jobs=-1)\n",
    "\n",
    "gs.fit(data)"
   ]
  },
  {
   "cell_type": "code",
   "execution_count": 54,
   "id": "b9359eb9",
   "metadata": {},
   "outputs": [
    {
     "name": "stdout",
     "output_type": "stream",
     "text": [
      "1.8173268057957617\n",
      "{'sim_options': {'name': 'msd', 'min_support': 5, 'user_based': True}}\n"
     ]
    }
   ],
   "source": [
    "print(gs.best_score[\"rmse\"])\n",
    "print(gs.best_params[\"rmse\"])"
   ]
  },
  {
   "cell_type": "code",
   "execution_count": 55,
   "id": "e224ac43",
   "metadata": {},
   "outputs": [
    {
     "name": "stdout",
     "output_type": "stream",
     "text": [
      "Computing the msd similarity matrix...\n",
      "Done computing similarity matrix.\n",
      "['074322678X', '0887841740', '1552041778', '1567407781', '1575663937', '1881320189', '0452264464', '8477024456', '1879384493', '0061076031']\n"
     ]
    }
   ],
   "source": [
    "# Get the best parameters\n",
    "best_params = gs.best_params['rmse']\n",
    "\n",
    "# Create a new model with the best parameters\n",
    "best_model = KNNWithMeans(sim_options=best_params['sim_options'])\n",
    "\n",
    "# Fit the model to the data\n",
    "best_model.fit(data.build_full_trainset())\n",
    "\n",
    "# Get the id of the item you're interested in\n",
    "item_id = '0002005018'\n",
    "\n",
    "# Get the inner id of the item\n",
    "inner_id = best_model.trainset.to_inner_iid(item_id)\n",
    "\n",
    "# Get the top 10 items similar to the given item\n",
    "neighbors = best_model.get_neighbors(inner_id, 10)\n",
    "\n",
    "# Convert the inner ids of the neighbors into raw ids\n",
    "neighbors = [best_model.trainset.to_raw_iid(inner_id) for inner_id in neighbors]\n",
    "\n",
    "print(neighbors)"
   ]
  },
  {
   "cell_type": "code",
   "execution_count": 58,
   "id": "5716fcc8",
   "metadata": {},
   "outputs": [
    {
     "name": "stdout",
     "output_type": "stream",
     "text": [
      "Computing the msd similarity matrix...\n",
      "Done computing similarity matrix.\n",
      "[9, 10, 12, 14, 16, 17, 19, 22, 26, 32]\n"
     ]
    }
   ],
   "source": [
    "# Get the best parameters\n",
    "best_params = gs.best_params['rmse']\n",
    "\n",
    "# Create a new model with the best parameters\n",
    "best_model = KNNWithMeans(sim_options=best_params['sim_options'])\n",
    "\n",
    "# Fit the model to the data\n",
    "best_model.fit(data.build_full_trainset())\n",
    "\n",
    "# Get the id of the user you're interested in\n",
    "user_id = 8\n",
    "\n",
    "# Get the inner id of the user\n",
    "inner_id = best_model.trainset.to_inner_uid(user_id)\n",
    "\n",
    "# Get the top 10 users similar to the given user\n",
    "neighbors = best_model.get_neighbors(inner_id, 10)\n",
    "\n",
    "# Convert the inner ids of the neighbors into raw ids\n",
    "neighbors = [best_model.trainset.to_raw_uid(inner_id) for inner_id in neighbors]\n",
    "\n",
    "print(neighbors)"
   ]
  },
  {
   "cell_type": "code",
   "execution_count": 59,
   "id": "598c2531",
   "metadata": {},
   "outputs": [
    {
     "name": "stdout",
     "output_type": "stream",
     "text": [
      "Computing the msd similarity matrix...\n",
      "Done computing similarity matrix.\n",
      "[(6, 7.0), (4, 6.0), (5, 6.0), (7, 5.571428571428571), (8, 5.571428571428571), (9, 5.571428571428571), (10, 5.571428571428571), (11, 5.571428571428571), (12, 5.571428571428571), (13, 5.571428571428571)]\n"
     ]
    }
   ],
   "source": [
    "# Get the best parameters\n",
    "best_params = gs.best_params['rmse']\n",
    "\n",
    "# Create a new model with the best parameters\n",
    "best_model = KNNWithMeans(sim_options=best_params['sim_options'])\n",
    "\n",
    "# Fit the model to the data\n",
    "best_model.fit(data.build_full_trainset())\n",
    "\n",
    "# Get the id of the user you're interested in\n",
    "user_id = 8\n",
    "\n",
    "# Get the list of all item ids\n",
    "item_ids = best_model.trainset.all_items()\n",
    "\n",
    "# Predict the rating for each item\n",
    "predictions = [(iid, best_model.predict(user_id, best_model.trainset.to_raw_iid(iid)).est) for iid in item_ids]\n",
    "\n",
    "# Sort the predictions by estimated rating in descending order\n",
    "predictions.sort(key=lambda x: x[1], reverse=True)\n",
    "\n",
    "# Get the top 10 items\n",
    "top_items = predictions[:10]\n",
    "\n",
    "print(top_items)"
   ]
  },
  {
   "cell_type": "code",
   "execution_count": 60,
   "id": "21ea0691",
   "metadata": {},
   "outputs": [
    {
     "name": "stdout",
     "output_type": "stream",
     "text": [
      "Computing the msd similarity matrix...\n",
      "Done computing similarity matrix.\n"
     ]
    }
   ],
   "source": [
    "# Get the best parameters\n",
    "best_params = gs.best_params['rmse']\n",
    "\n",
    "# Create a new model with the best parameters\n",
    "best_model = KNNWithMeans(sim_options=best_params['sim_options'])\n",
    "\n",
    "# Fit the model to the data\n",
    "best_model.fit(data.build_full_trainset())\n",
    "\n",
    "# Get the id of the user you're interested in\n",
    "user_id = 8\n",
    "\n",
    "# Get the list of all item ids\n",
    "item_ids = best_model.trainset.all_items()\n",
    "\n",
    "# Predict the rating for each item\n",
    "predictions = [(best_model.trainset.to_raw_iid(iid), best_model.predict(user_id, best_model.trainset.to_raw_iid(iid)).est) for iid in item_ids]\n",
    "\n",
    "# Sort the predictions by estimated rating in descending order\n",
    "predictions.sort(key=lambda x: x[1], reverse=True)\n",
    "\n",
    "# Get the top 10 items\n",
    "top_items = predictions[:10]\n",
    "\n",
    "# Get the ids of the top items\n",
    "top_item_ids = [item_id for (item_id, _) in top_items]\n",
    "\n"
   ]
  },
  {
   "cell_type": "code",
   "execution_count": 61,
   "id": "68524a20",
   "metadata": {},
   "outputs": [
    {
     "data": {
      "text/plain": [
       "['1881320189',\n",
       " '1567407781',\n",
       " '1575663937',\n",
       " '0452264464',\n",
       " '8477024456',\n",
       " '1879384493',\n",
       " '0061076031',\n",
       " '0439095026',\n",
       " '0689821166',\n",
       " '0345402871']"
      ]
     },
     "execution_count": 61,
     "metadata": {},
     "output_type": "execute_result"
    }
   ],
   "source": [
    "top_item_ids"
   ]
  },
  {
   "cell_type": "code",
   "execution_count": 63,
   "id": "a9d40fad",
   "metadata": {},
   "outputs": [
    {
     "data": {
      "text/html": [
       "<div>\n",
       "<style scoped>\n",
       "    .dataframe tbody tr th:only-of-type {\n",
       "        vertical-align: middle;\n",
       "    }\n",
       "\n",
       "    .dataframe tbody tr th {\n",
       "        vertical-align: top;\n",
       "    }\n",
       "\n",
       "    .dataframe thead th {\n",
       "        text-align: right;\n",
       "    }\n",
       "</style>\n",
       "<table border=\"1\" class=\"dataframe\">\n",
       "  <thead>\n",
       "    <tr style=\"text-align: right;\">\n",
       "      <th></th>\n",
       "      <th>User-ID</th>\n",
       "      <th>ISBN</th>\n",
       "      <th>Rating</th>\n",
       "    </tr>\n",
       "  </thead>\n",
       "  <tbody>\n",
       "    <tr>\n",
       "      <th>17</th>\n",
       "      <td>8</td>\n",
       "      <td>1567407781</td>\n",
       "      <td>6</td>\n",
       "    </tr>\n",
       "    <tr>\n",
       "      <th>18</th>\n",
       "      <td>8</td>\n",
       "      <td>1575663937</td>\n",
       "      <td>6</td>\n",
       "    </tr>\n",
       "    <tr>\n",
       "      <th>19</th>\n",
       "      <td>8</td>\n",
       "      <td>1881320189</td>\n",
       "      <td>7</td>\n",
       "    </tr>\n",
       "    <tr>\n",
       "      <th>21</th>\n",
       "      <td>9</td>\n",
       "      <td>0452264464</td>\n",
       "      <td>6</td>\n",
       "    </tr>\n",
       "    <tr>\n",
       "      <th>24</th>\n",
       "      <td>10</td>\n",
       "      <td>8477024456</td>\n",
       "      <td>6</td>\n",
       "    </tr>\n",
       "    <tr>\n",
       "      <th>25</th>\n",
       "      <td>12</td>\n",
       "      <td>1879384493</td>\n",
       "      <td>10</td>\n",
       "    </tr>\n",
       "    <tr>\n",
       "      <th>26</th>\n",
       "      <td>14</td>\n",
       "      <td>0061076031</td>\n",
       "      <td>5</td>\n",
       "    </tr>\n",
       "    <tr>\n",
       "      <th>27</th>\n",
       "      <td>14</td>\n",
       "      <td>0439095026</td>\n",
       "      <td>5</td>\n",
       "    </tr>\n",
       "    <tr>\n",
       "      <th>28</th>\n",
       "      <td>14</td>\n",
       "      <td>0689821166</td>\n",
       "      <td>6</td>\n",
       "    </tr>\n",
       "    <tr>\n",
       "      <th>30</th>\n",
       "      <td>16</td>\n",
       "      <td>0345402871</td>\n",
       "      <td>9</td>\n",
       "    </tr>\n",
       "    <tr>\n",
       "      <th>9367</th>\n",
       "      <td>3373</td>\n",
       "      <td>0452264464</td>\n",
       "      <td>10</td>\n",
       "    </tr>\n",
       "    <tr>\n",
       "      <th>14390</th>\n",
       "      <td>5555</td>\n",
       "      <td>0452264464</td>\n",
       "      <td>9</td>\n",
       "    </tr>\n",
       "    <tr>\n",
       "      <th>15975</th>\n",
       "      <td>6242</td>\n",
       "      <td>0452264464</td>\n",
       "      <td>5</td>\n",
       "    </tr>\n",
       "  </tbody>\n",
       "</table>\n",
       "</div>"
      ],
      "text/plain": [
       "      User-ID        ISBN  Rating\n",
       "17          8  1567407781       6\n",
       "18          8  1575663937       6\n",
       "19          8  1881320189       7\n",
       "21          9  0452264464       6\n",
       "24         10  8477024456       6\n",
       "25         12  1879384493      10\n",
       "26         14  0061076031       5\n",
       "27         14  0439095026       5\n",
       "28         14  0689821166       6\n",
       "30         16  0345402871       9\n",
       "9367     3373  0452264464      10\n",
       "14390    5555  0452264464       9\n",
       "15975    6242  0452264464       5"
      ]
     },
     "execution_count": 63,
     "metadata": {},
     "output_type": "execute_result"
    }
   ],
   "source": [
    "# Filter the dataframe to include only the top items\n",
    "recommended_items = ratings_non_null[ratings_non_null['ISBN'].isin(top_item_ids)]\n",
    "\n",
    "recommended_items"
   ]
  },
  {
   "cell_type": "code",
   "execution_count": 66,
   "id": "64a498ee",
   "metadata": {},
   "outputs": [
    {
     "data": {
      "text/html": [
       "<div>\n",
       "<style scoped>\n",
       "    .dataframe tbody tr th:only-of-type {\n",
       "        vertical-align: middle;\n",
       "    }\n",
       "\n",
       "    .dataframe tbody tr th {\n",
       "        vertical-align: top;\n",
       "    }\n",
       "\n",
       "    .dataframe thead th {\n",
       "        text-align: right;\n",
       "    }\n",
       "</style>\n",
       "<table border=\"1\" class=\"dataframe\">\n",
       "  <thead>\n",
       "    <tr style=\"text-align: right;\">\n",
       "      <th></th>\n",
       "      <th>ISBN</th>\n",
       "      <th>Title</th>\n",
       "      <th>Author</th>\n",
       "      <th>Year</th>\n",
       "      <th>Publisher</th>\n",
       "      <th>User-ID</th>\n",
       "      <th>Rating</th>\n",
       "    </tr>\n",
       "  </thead>\n",
       "  <tbody>\n",
       "    <tr>\n",
       "      <th>0</th>\n",
       "      <td>1567407781</td>\n",
       "      <td>The Witchfinder (Amos Walker Mystery Series)</td>\n",
       "      <td>Loren D. Estleman</td>\n",
       "      <td>1998</td>\n",
       "      <td>Brilliance Audio - Trade</td>\n",
       "      <td>8</td>\n",
       "      <td>6</td>\n",
       "    </tr>\n",
       "    <tr>\n",
       "      <th>1</th>\n",
       "      <td>1575663937</td>\n",
       "      <td>More Cunning Than Man: A Social History of Rat...</td>\n",
       "      <td>Robert Hendrickson</td>\n",
       "      <td>1999</td>\n",
       "      <td>Kensington Publishing Corp.</td>\n",
       "      <td>8</td>\n",
       "      <td>6</td>\n",
       "    </tr>\n",
       "    <tr>\n",
       "      <th>2</th>\n",
       "      <td>1881320189</td>\n",
       "      <td>Goodbye to the Buttermilk Sky</td>\n",
       "      <td>Julia Oliver</td>\n",
       "      <td>1994</td>\n",
       "      <td>River City Pub</td>\n",
       "      <td>8</td>\n",
       "      <td>7</td>\n",
       "    </tr>\n",
       "    <tr>\n",
       "      <th>3</th>\n",
       "      <td>0452264464</td>\n",
       "      <td>Beloved (Plume Contemporary Fiction)</td>\n",
       "      <td>Toni Morrison</td>\n",
       "      <td>1994</td>\n",
       "      <td>Plume</td>\n",
       "      <td>9</td>\n",
       "      <td>6</td>\n",
       "    </tr>\n",
       "    <tr>\n",
       "      <th>4</th>\n",
       "      <td>0452264464</td>\n",
       "      <td>Beloved (Plume Contemporary Fiction)</td>\n",
       "      <td>Toni Morrison</td>\n",
       "      <td>1994</td>\n",
       "      <td>Plume</td>\n",
       "      <td>3373</td>\n",
       "      <td>10</td>\n",
       "    </tr>\n",
       "    <tr>\n",
       "      <th>5</th>\n",
       "      <td>0452264464</td>\n",
       "      <td>Beloved (Plume Contemporary Fiction)</td>\n",
       "      <td>Toni Morrison</td>\n",
       "      <td>1994</td>\n",
       "      <td>Plume</td>\n",
       "      <td>5555</td>\n",
       "      <td>9</td>\n",
       "    </tr>\n",
       "    <tr>\n",
       "      <th>6</th>\n",
       "      <td>0452264464</td>\n",
       "      <td>Beloved (Plume Contemporary Fiction)</td>\n",
       "      <td>Toni Morrison</td>\n",
       "      <td>1994</td>\n",
       "      <td>Plume</td>\n",
       "      <td>6242</td>\n",
       "      <td>5</td>\n",
       "    </tr>\n",
       "    <tr>\n",
       "      <th>7</th>\n",
       "      <td>1879384493</td>\n",
       "      <td>If I'd Known Then What I Know Now: Why Not Lea...</td>\n",
       "      <td>J. R. Parrish</td>\n",
       "      <td>2003</td>\n",
       "      <td>Cypress House</td>\n",
       "      <td>12</td>\n",
       "      <td>10</td>\n",
       "    </tr>\n",
       "    <tr>\n",
       "      <th>8</th>\n",
       "      <td>0061076031</td>\n",
       "      <td>Mary-Kate &amp; Ashley Switching Goals (Mary-Kate ...</td>\n",
       "      <td>Mary-Kate &amp;amp; Ashley Olsen</td>\n",
       "      <td>2000</td>\n",
       "      <td>HarperEntertainment</td>\n",
       "      <td>14</td>\n",
       "      <td>5</td>\n",
       "    </tr>\n",
       "    <tr>\n",
       "      <th>9</th>\n",
       "      <td>0439095026</td>\n",
       "      <td>Tell Me This Isn't Happening</td>\n",
       "      <td>Robynn Clairday</td>\n",
       "      <td>1999</td>\n",
       "      <td>Scholastic</td>\n",
       "      <td>14</td>\n",
       "      <td>5</td>\n",
       "    </tr>\n",
       "    <tr>\n",
       "      <th>10</th>\n",
       "      <td>0689821166</td>\n",
       "      <td>Flood : Mississippi 1927</td>\n",
       "      <td>Kathleen Duey</td>\n",
       "      <td>1998</td>\n",
       "      <td>Aladdin</td>\n",
       "      <td>14</td>\n",
       "      <td>6</td>\n",
       "    </tr>\n",
       "    <tr>\n",
       "      <th>11</th>\n",
       "      <td>0345402871</td>\n",
       "      <td>Airframe</td>\n",
       "      <td>Michael Crichton</td>\n",
       "      <td>1997</td>\n",
       "      <td>Ballantine Books</td>\n",
       "      <td>16</td>\n",
       "      <td>9</td>\n",
       "    </tr>\n",
       "  </tbody>\n",
       "</table>\n",
       "</div>"
      ],
      "text/plain": [
       "          ISBN                                              Title  \\\n",
       "0   1567407781       The Witchfinder (Amos Walker Mystery Series)   \n",
       "1   1575663937  More Cunning Than Man: A Social History of Rat...   \n",
       "2   1881320189                      Goodbye to the Buttermilk Sky   \n",
       "3   0452264464               Beloved (Plume Contemporary Fiction)   \n",
       "4   0452264464               Beloved (Plume Contemporary Fiction)   \n",
       "5   0452264464               Beloved (Plume Contemporary Fiction)   \n",
       "6   0452264464               Beloved (Plume Contemporary Fiction)   \n",
       "7   1879384493  If I'd Known Then What I Know Now: Why Not Lea...   \n",
       "8   0061076031  Mary-Kate & Ashley Switching Goals (Mary-Kate ...   \n",
       "9   0439095026                       Tell Me This Isn't Happening   \n",
       "10  0689821166                           Flood : Mississippi 1927   \n",
       "11  0345402871                                           Airframe   \n",
       "\n",
       "                          Author  Year                    Publisher User-ID  \\\n",
       "0              Loren D. Estleman  1998     Brilliance Audio - Trade       8   \n",
       "1             Robert Hendrickson  1999  Kensington Publishing Corp.       8   \n",
       "2                   Julia Oliver  1994               River City Pub       8   \n",
       "3                  Toni Morrison  1994                        Plume       9   \n",
       "4                  Toni Morrison  1994                        Plume    3373   \n",
       "5                  Toni Morrison  1994                        Plume    5555   \n",
       "6                  Toni Morrison  1994                        Plume    6242   \n",
       "7                  J. R. Parrish  2003                Cypress House      12   \n",
       "8   Mary-Kate &amp; Ashley Olsen  2000          HarperEntertainment      14   \n",
       "9                Robynn Clairday  1999                   Scholastic      14   \n",
       "10                 Kathleen Duey  1998                      Aladdin      14   \n",
       "11              Michael Crichton  1997             Ballantine Books      16   \n",
       "\n",
       "    Rating  \n",
       "0        6  \n",
       "1        6  \n",
       "2        7  \n",
       "3        6  \n",
       "4       10  \n",
       "5        9  \n",
       "6        5  \n",
       "7       10  \n",
       "8        5  \n",
       "9        5  \n",
       "10       6  \n",
       "11       9  "
      ]
     },
     "execution_count": 66,
     "metadata": {},
     "output_type": "execute_result"
    }
   ],
   "source": [
    "books[books['ISBN'].isin(top_item_ids)].merge(recommended_items, on='ISBN')"
   ]
  }
 ],
 "metadata": {
  "kernelspec": {
   "display_name": "recomendation_model",
   "language": "python",
   "name": "python3"
  },
  "language_info": {
   "codemirror_mode": {
    "name": "ipython",
    "version": 3
   },
   "file_extension": ".py",
   "mimetype": "text/x-python",
   "name": "python",
   "nbconvert_exporter": "python",
   "pygments_lexer": "ipython3",
   "version": "3.11.9"
  }
 },
 "nbformat": 4,
 "nbformat_minor": 5
}
